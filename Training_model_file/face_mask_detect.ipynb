{
  "nbformat": 4,
  "nbformat_minor": 0,
  "metadata": {
    "colab": {
      "name": "face_mask_detect.ipynb",
      "provenance": []
    },
    "kernelspec": {
      "name": "python3",
      "display_name": "Python 3"
    },
    "accelerator": "TPU"
  },
  "cells": [
    {
      "cell_type": "code",
      "metadata": {
        "id": "4M4_qruSfsdl",
        "colab_type": "code",
        "colab": {
          "base_uri": "https://localhost:8080/",
          "height": 122
        },
        "outputId": "516af7ff-bfe4-4d52-acac-5f72515b5045"
      },
      "source": [
        "!pip install patool"
      ],
      "execution_count": 1,
      "outputs": [
        {
          "output_type": "stream",
          "text": [
            "Collecting patool\n",
            "\u001b[?25l  Downloading https://files.pythonhosted.org/packages/43/94/52243ddff508780dd2d8110964320ab4851134a55ab102285b46e740f76a/patool-1.12-py2.py3-none-any.whl (77kB)\n",
            "\r\u001b[K     |████▎                           | 10kB 14.8MB/s eta 0:00:01\r\u001b[K     |████████▌                       | 20kB 1.8MB/s eta 0:00:01\r\u001b[K     |████████████▊                   | 30kB 2.4MB/s eta 0:00:01\r\u001b[K     |█████████████████               | 40kB 2.7MB/s eta 0:00:01\r\u001b[K     |█████████████████████▏          | 51kB 2.3MB/s eta 0:00:01\r\u001b[K     |█████████████████████████▍      | 61kB 2.6MB/s eta 0:00:01\r\u001b[K     |█████████████████████████████▋  | 71kB 2.9MB/s eta 0:00:01\r\u001b[K     |████████████████████████████████| 81kB 2.5MB/s \n",
            "\u001b[?25hInstalling collected packages: patool\n",
            "Successfully installed patool-1.12\n"
          ],
          "name": "stdout"
        }
      ]
    },
    {
      "cell_type": "code",
      "metadata": {
        "id": "XC2jtQATwZoH",
        "colab_type": "code",
        "colab": {}
      },
      "source": [
        "import os\n",
        "import shutil"
      ],
      "execution_count": 0,
      "outputs": []
    },
    {
      "cell_type": "code",
      "metadata": {
        "id": "KY-ytYcyxHgS",
        "colab_type": "code",
        "colab": {}
      },
      "source": [
        "shutil.rmtree('mask1')"
      ],
      "execution_count": 0,
      "outputs": []
    },
    {
      "cell_type": "code",
      "metadata": {
        "id": "g9wqHDdwwM8Q",
        "colab_type": "code",
        "colab": {}
      },
      "source": [
        "path = 'drive/My Drive/dataset'"
      ],
      "execution_count": 0,
      "outputs": []
    },
    {
      "cell_type": "code",
      "metadata": {
        "id": "WMZwpXdbgCQp",
        "colab_type": "code",
        "colab": {
          "base_uri": "https://localhost:8080/",
          "height": 102
        },
        "outputId": "b2f90a92-0ab2-4160-b71d-e359b5b2676f"
      },
      "source": [
        "import patoolib\n",
        "patoolib.extract_archive(path+\"/face.rar\")"
      ],
      "execution_count": 5,
      "outputs": [
        {
          "output_type": "stream",
          "text": [
            "patool: Extracting drive/My Drive/dataset/face.rar ...\n",
            "patool: running /usr/bin/unrar x -- \"/content/drive/My Drive/dataset/face.rar\"\n",
            "patool:     with cwd='./Unpack_9lez31lx'\n",
            "patool: ... drive/My Drive/dataset/face.rar extracted to `face'.\n"
          ],
          "name": "stdout"
        },
        {
          "output_type": "execute_result",
          "data": {
            "text/plain": [
              "'face'"
            ]
          },
          "metadata": {
            "tags": []
          },
          "execution_count": 5
        }
      ]
    },
    {
      "cell_type": "code",
      "metadata": {
        "id": "YoPxhbBzwnvE",
        "colab_type": "code",
        "colab": {
          "base_uri": "https://localhost:8080/",
          "height": 102
        },
        "outputId": "508ed5ba-c83d-4b2c-9db1-02e6ad3122b4"
      },
      "source": [
        "import patoolib\n",
        "patoolib.extract_archive(path+\"/face.rar\")"
      ],
      "execution_count": 9,
      "outputs": [
        {
          "output_type": "stream",
          "text": [
            "patool: Extracting drive/My Drive/dataset/face.rar ...\n",
            "patool: running /usr/bin/unrar x -- \"/content/drive/My Drive/dataset/face.rar\"\n",
            "patool:     with cwd='./Unpack_abd905q1'\n",
            "patool: ... drive/My Drive/dataset/face.rar extracted to `face'.\n"
          ],
          "name": "stdout"
        },
        {
          "output_type": "execute_result",
          "data": {
            "text/plain": [
              "'face'"
            ]
          },
          "metadata": {
            "tags": []
          },
          "execution_count": 9
        }
      ]
    },
    {
      "cell_type": "code",
      "metadata": {
        "id": "ciSrgqUj-cBr",
        "colab_type": "code",
        "colab": {}
      },
      "source": [
        "os.makedirs('test')\n",
        "os.makedirs('train')"
      ],
      "execution_count": 0,
      "outputs": []
    },
    {
      "cell_type": "code",
      "metadata": {
        "id": "iGfExfX20ETt",
        "colab_type": "code",
        "colab": {}
      },
      "source": [
        "os.makedirs('test/mask')\n",
        "os.makedirs('test/face')"
      ],
      "execution_count": 0,
      "outputs": []
    },
    {
      "cell_type": "code",
      "metadata": {
        "id": "6Px0s6J4A41p",
        "colab_type": "code",
        "colab": {}
      },
      "source": [
        "os.makedirs('train/mask')\n",
        "os.makedirs('train/face')"
      ],
      "execution_count": 0,
      "outputs": []
    },
    {
      "cell_type": "code",
      "metadata": {
        "id": "oNw5Bl7MzPx6",
        "colab_type": "code",
        "colab": {
          "base_uri": "https://localhost:8080/",
          "height": 34
        },
        "outputId": "49e35890-cdd5-4a76-d85a-f6f4201f8917"
      },
      "source": [
        "k = 0\n",
        "for i in os.listdir('mask'):\n",
        "  src = 'mask/'+i\n",
        "  dest = 'train/mask/'+i\n",
        "  shutil.move(src,dest)\n",
        "  k = k+1\n",
        "print(k)  "
      ],
      "execution_count": 21,
      "outputs": [
        {
          "output_type": "stream",
          "text": [
            "1703\n"
          ],
          "name": "stdout"
        }
      ]
    },
    {
      "cell_type": "code",
      "metadata": {
        "id": "j9BRJAfL_6c4",
        "colab_type": "code",
        "colab": {
          "base_uri": "https://localhost:8080/",
          "height": 51
        },
        "outputId": "a8270cb5-dd02-430d-a5a3-18483ece8c60"
      },
      "source": [
        "print(len(os.listdir('mask')))\n",
        "print(len(os.listdir('face')))"
      ],
      "execution_count": 22,
      "outputs": [
        {
          "output_type": "stream",
          "text": [
            "0\n",
            "0\n"
          ],
          "name": "stdout"
        }
      ]
    },
    {
      "cell_type": "code",
      "metadata": {
        "id": "YrNMfH-uAGVz",
        "colab_type": "code",
        "colab": {}
      },
      "source": [
        "print(len(os.listdir('train/mask')))\n",
        "print(len(os.listdir('train/face')))"
      ],
      "execution_count": 0,
      "outputs": []
    },
    {
      "cell_type": "code",
      "metadata": {
        "id": "vy8aiZVO0ayV",
        "colab_type": "code",
        "colab": {
          "base_uri": "https://localhost:8080/",
          "height": 51
        },
        "outputId": "4f8b83d4-4f56-4738-d3e2-a23a42e81588"
      },
      "source": [
        "print(len(os.listdir('test/mask')))\n",
        "print(len(os.listdir('test/face')))"
      ],
      "execution_count": 13,
      "outputs": [
        {
          "output_type": "stream",
          "text": [
            "500\n",
            "10000\n"
          ],
          "name": "stdout"
        }
      ]
    },
    {
      "cell_type": "code",
      "metadata": {
        "id": "fpqCUjLYBMp6",
        "colab_type": "code",
        "colab": {}
      },
      "source": [
        "shutil.rmtree('face')\n",
        "shutil.rmtree('mask')"
      ],
      "execution_count": 0,
      "outputs": []
    },
    {
      "cell_type": "code",
      "metadata": {
        "id": "3cov81AUxdod",
        "colab_type": "code",
        "colab": {
          "base_uri": "https://localhost:8080/",
          "height": 34
        },
        "outputId": "aed4ff66-a5d1-4453-bb37-3a71803d031b"
      },
      "source": [
        "shutil.copytree('mask','train/mask')"
      ],
      "execution_count": 23,
      "outputs": [
        {
          "output_type": "execute_result",
          "data": {
            "text/plain": [
              "'train/mask'"
            ]
          },
          "metadata": {
            "tags": []
          },
          "execution_count": 23
        }
      ]
    },
    {
      "cell_type": "code",
      "metadata": {
        "id": "h43KRtBx0va2",
        "colab_type": "code",
        "colab": {}
      },
      "source": [
        "os.remove('mask.rar')"
      ],
      "execution_count": 0,
      "outputs": []
    },
    {
      "cell_type": "code",
      "metadata": {
        "id": "Wzp5XNQm1Rd8",
        "colab_type": "code",
        "colab": {
          "base_uri": "https://localhost:8080/",
          "height": 34
        },
        "outputId": "3f63550c-1f62-4d52-e990-be34dcee3dec"
      },
      "source": [
        "from keras.layers import Conv2D, MaxPooling2D, ZeroPadding2D\n",
        "from keras.layers import Dense, Activation, Dropout, Flatten\n",
        "from keras import optimizers\n",
        "from keras.models import Sequential\n",
        "from keras.preprocessing.image import ImageDataGenerator\n",
        "import numpy as np "
      ],
      "execution_count": 24,
      "outputs": [
        {
          "output_type": "stream",
          "text": [
            "Using TensorFlow backend.\n"
          ],
          "name": "stderr"
        }
      ]
    },
    {
      "cell_type": "code",
      "metadata": {
        "id": "q_YRP9PD1Xf9",
        "colab_type": "code",
        "colab": {
          "base_uri": "https://localhost:8080/",
          "height": 51
        },
        "outputId": "ec9968b7-bc86-4bbd-e0b1-a37113ba65e5"
      },
      "source": [
        "# step 1: load data\n",
        "\n",
        "img_width = 150\n",
        "img_height = 150\n",
        "train_data_dir = 'train'\n",
        "valid_data_dir = 'test'\n",
        "\n",
        "datagen = ImageDataGenerator(rescale = 1./255,\n",
        "                             rotation_range=60,\n",
        "                              width_shift_range=0.1,\n",
        "                              height_shift_range=0.1,\n",
        "                              zoom_range=0.2\n",
        "                             )\n",
        "\n",
        "train_generator = datagen.flow_from_directory(directory=train_data_dir,\n",
        "\t\t\t\t\t\t\t\t\t\t\t   target_size=(img_width,img_height),\n",
        "\t\t\t\t\t\t\t\t\t\t\t   classes=['face','mask'],\n",
        "\t\t\t\t\t\t\t\t\t\t\t   class_mode='binary',\n",
        "\t\t\t\t\t\t\t\t\t\t\t   batch_size=16)\n",
        "\n",
        "validation_generator = datagen.flow_from_directory(directory=valid_data_dir,\n",
        "\t\t\t\t\t\t\t\t\t\t\t   target_size=(img_width,img_height),\n",
        "\t\t\t\t\t\t\t\t\t\t\t   classes=['face','mask'],\n",
        "\t\t\t\t\t\t\t\t\t\t\t   class_mode='binary',\n",
        "\t\t\t\t\t\t\t\t\t\t\t   batch_size=32)"
      ],
      "execution_count": 25,
      "outputs": [
        {
          "output_type": "stream",
          "text": [
            "Found 82171 images belonging to 2 classes.\n",
            "Found 10500 images belonging to 2 classes.\n"
          ],
          "name": "stdout"
        }
      ]
    },
    {
      "cell_type": "code",
      "metadata": {
        "id": "mU-U9t44hgg0",
        "colab_type": "code",
        "colab": {
          "base_uri": "https://localhost:8080/",
          "height": 1000
        },
        "outputId": "07b21870-c087-461d-d719-dff22098fe74"
      },
      "source": [
        "# step-2 : build model\n",
        "\n",
        "model =Sequential()\n",
        "\n",
        "model.add(Conv2D(32,(3,3), input_shape=(img_width, img_height, 3)))\n",
        "model.add(Activation('relu'))\n",
        "model.add(MaxPooling2D(pool_size=(2,2)))\n",
        "\n",
        "model.add(Conv2D(32,(3,3), input_shape=(img_width, img_height, 3)))\n",
        "model.add(Activation('relu'))\n",
        "model.add(MaxPooling2D(pool_size=(2,2)))\n",
        "\n",
        "model.add(Conv2D(64,(3,3), input_shape=(img_width, img_height, 3)))\n",
        "model.add(Activation('relu'))\n",
        "model.add(MaxPooling2D(pool_size=(2,2)))\n",
        "\n",
        "model.add(Flatten())\n",
        "model.add(Dense(64))\n",
        "model.add(Activation('relu'))\n",
        "model.add(Dropout(0.5))\n",
        "model.add(Dense(1))\n",
        "model.add(Activation('sigmoid'))\n",
        "\n",
        "model.compile(loss='binary_crossentropy',optimizer='rmsprop',metrics=['accuracy'])\n",
        "\n",
        "print('model complied!!')\n",
        "\n",
        "print('starting training....')\n",
        "training = model.fit_generator(generator=train_generator, steps_per_epoch=2048 // 16,epochs=30,validation_data=validation_generator,validation_steps=832//16)\n",
        "\n",
        "print('training finished!!')\n",
        "\n"
      ],
      "execution_count": 26,
      "outputs": [
        {
          "output_type": "stream",
          "text": [
            "model complied!!\n",
            "starting training....\n",
            "Epoch 1/30\n",
            "128/128 [==============================] - 85s 666ms/step - loss: 0.1662 - accuracy: 0.9810 - val_loss: 0.0120 - val_accuracy: 0.9555\n",
            "Epoch 2/30\n",
            "128/128 [==============================] - 84s 653ms/step - loss: 0.1323 - accuracy: 0.9775 - val_loss: 0.0244 - val_accuracy: 0.9507\n",
            "Epoch 3/30\n",
            "128/128 [==============================] - 83s 647ms/step - loss: 0.1171 - accuracy: 0.9790 - val_loss: 0.0603 - val_accuracy: 0.9495\n",
            "Epoch 4/30\n",
            "128/128 [==============================] - 85s 660ms/step - loss: 0.0994 - accuracy: 0.9785 - val_loss: 0.6971 - val_accuracy: 0.9495\n",
            "Epoch 5/30\n",
            "128/128 [==============================] - 82s 644ms/step - loss: 0.0948 - accuracy: 0.9800 - val_loss: 0.0763 - val_accuracy: 0.9675\n",
            "Epoch 6/30\n",
            "128/128 [==============================] - 83s 648ms/step - loss: 0.0801 - accuracy: 0.9824 - val_loss: 0.1448 - val_accuracy: 0.9621\n",
            "Epoch 7/30\n",
            "128/128 [==============================] - 82s 638ms/step - loss: 0.0879 - accuracy: 0.9834 - val_loss: 0.0102 - val_accuracy: 0.9609\n",
            "Epoch 8/30\n",
            "128/128 [==============================] - 82s 638ms/step - loss: 0.0823 - accuracy: 0.9824 - val_loss: 0.0356 - val_accuracy: 0.9700\n",
            "Epoch 9/30\n",
            "128/128 [==============================] - 81s 635ms/step - loss: 0.0739 - accuracy: 0.9858 - val_loss: 0.3907 - val_accuracy: 0.9688\n",
            "Epoch 10/30\n",
            "128/128 [==============================] - 82s 637ms/step - loss: 0.0881 - accuracy: 0.9849 - val_loss: 0.0759 - val_accuracy: 0.9669\n",
            "Epoch 11/30\n",
            "128/128 [==============================] - 84s 659ms/step - loss: 0.0586 - accuracy: 0.9854 - val_loss: 0.4715 - val_accuracy: 0.9531\n",
            "Epoch 12/30\n",
            "128/128 [==============================] - 81s 630ms/step - loss: 0.0852 - accuracy: 0.9824 - val_loss: 0.0402 - val_accuracy: 0.9826\n",
            "Epoch 13/30\n",
            "128/128 [==============================] - 81s 636ms/step - loss: 0.0850 - accuracy: 0.9795 - val_loss: 0.1424 - val_accuracy: 0.9609\n",
            "Epoch 14/30\n",
            "128/128 [==============================] - 80s 629ms/step - loss: 0.0717 - accuracy: 0.9834 - val_loss: 0.3097 - val_accuracy: 0.9730\n",
            "Epoch 15/30\n",
            "128/128 [==============================] - 81s 632ms/step - loss: 0.0740 - accuracy: 0.9868 - val_loss: 0.0020 - val_accuracy: 0.9706\n",
            "Epoch 16/30\n",
            "128/128 [==============================] - 81s 634ms/step - loss: 0.0700 - accuracy: 0.9819 - val_loss: 0.4145 - val_accuracy: 0.9633\n",
            "Epoch 17/30\n",
            "128/128 [==============================] - 81s 634ms/step - loss: 0.0587 - accuracy: 0.9839 - val_loss: 0.0600 - val_accuracy: 0.9808\n",
            "Epoch 18/30\n",
            "128/128 [==============================] - 81s 635ms/step - loss: 0.1706 - accuracy: 0.9878 - val_loss: 0.0477 - val_accuracy: 0.9681\n",
            "Epoch 19/30\n",
            "128/128 [==============================] - 83s 650ms/step - loss: 0.0640 - accuracy: 0.9883 - val_loss: 0.0014 - val_accuracy: 0.9823\n",
            "Epoch 20/30\n",
            "128/128 [==============================] - 81s 634ms/step - loss: 0.0962 - accuracy: 0.9858 - val_loss: 0.0627 - val_accuracy: 0.9507\n",
            "Epoch 21/30\n",
            "128/128 [==============================] - 81s 633ms/step - loss: 0.0712 - accuracy: 0.9873 - val_loss: 0.0104 - val_accuracy: 0.9784\n",
            "Epoch 22/30\n",
            "128/128 [==============================] - 81s 632ms/step - loss: 0.0629 - accuracy: 0.9902 - val_loss: 0.2225 - val_accuracy: 0.9525\n",
            "Epoch 23/30\n",
            "128/128 [==============================] - 81s 633ms/step - loss: 0.1033 - accuracy: 0.9873 - val_loss: 8.0408e-04 - val_accuracy: 0.9850\n",
            "Epoch 24/30\n",
            "128/128 [==============================] - 81s 631ms/step - loss: 0.0755 - accuracy: 0.9887 - val_loss: 0.0019 - val_accuracy: 0.9844\n",
            "Epoch 25/30\n",
            "128/128 [==============================] - 81s 633ms/step - loss: 0.0831 - accuracy: 0.9849 - val_loss: 0.0129 - val_accuracy: 0.9880\n",
            "Epoch 26/30\n",
            "128/128 [==============================] - 83s 651ms/step - loss: 0.0610 - accuracy: 0.9829 - val_loss: 0.0096 - val_accuracy: 0.9719\n",
            "Epoch 27/30\n",
            "128/128 [==============================] - 81s 632ms/step - loss: 0.0905 - accuracy: 0.9878 - val_loss: 0.2011 - val_accuracy: 0.9772\n",
            "Epoch 28/30\n",
            "128/128 [==============================] - 81s 636ms/step - loss: 0.0715 - accuracy: 0.9883 - val_loss: 0.0757 - val_accuracy: 0.9754\n",
            "Epoch 29/30\n",
            "128/128 [==============================] - 82s 639ms/step - loss: 0.0816 - accuracy: 0.9844 - val_loss: 0.0264 - val_accuracy: 0.9814\n",
            "Epoch 30/30\n",
            "128/128 [==============================] - 81s 634ms/step - loss: 0.1104 - accuracy: 0.9814 - val_loss: 0.0214 - val_accuracy: 0.9814\n",
            "training finished!!\n"
          ],
          "name": "stdout"
        }
      ]
    },
    {
      "cell_type": "code",
      "metadata": {
        "id": "rJeBFwkp2UZk",
        "colab_type": "code",
        "colab": {}
      },
      "source": [
        "##Prediction Part\n",
        "import numpy as np\n",
        "from keras.preprocessing import image\n",
        "\n",
        "img_pred = image.load_img('mask.png', target_size = (150, 150))\n",
        "img_pred = image.img_to_array(img_pred)\n",
        "img_pred = np.expand_dims(img_pred, axis = 0)\n",
        "rslt = model.predict(img_pred)"
      ],
      "execution_count": 0,
      "outputs": []
    },
    {
      "cell_type": "code",
      "metadata": {
        "id": "GQkWQwSs7IPz",
        "colab_type": "code",
        "colab": {
          "base_uri": "https://localhost:8080/",
          "height": 34
        },
        "outputId": "12ae6739-27af-4dc5-e351-09f8509ec5f6"
      },
      "source": [
        "rslt"
      ],
      "execution_count": 38,
      "outputs": [
        {
          "output_type": "execute_result",
          "data": {
            "text/plain": [
              "array([[0.00500206]], dtype=float32)"
            ]
          },
          "metadata": {
            "tags": []
          },
          "execution_count": 38
        }
      ]
    },
    {
      "cell_type": "code",
      "metadata": {
        "id": "CMkKU22s1jMe",
        "colab_type": "code",
        "colab": {
          "base_uri": "https://localhost:8080/",
          "height": 51
        },
        "outputId": "4859a98f-74c4-424a-b8c4-45363a77f207"
      },
      "source": [
        "print('saving weights to simple_CNN.h5')\n",
        "\n",
        "model.save_weights('model_weights.h5')\n",
        "\n",
        "print('all weights saved successfully !!')\n",
        "#models.load_weights('models/simple_CNN.h5')"
      ],
      "execution_count": 39,
      "outputs": [
        {
          "output_type": "stream",
          "text": [
            "saving weights to simple_CNN.h5\n",
            "all weights saved successfully !!\n"
          ],
          "name": "stdout"
        }
      ]
    },
    {
      "cell_type": "code",
      "metadata": {
        "id": "AItV4sOX-f9W",
        "colab_type": "code",
        "colab": {}
      },
      "source": [
        "model.save('my_model.h5')"
      ],
      "execution_count": 0,
      "outputs": []
    },
    {
      "cell_type": "code",
      "metadata": {
        "id": "pz44W8wLPl_U",
        "colab_type": "code",
        "colab": {}
      },
      "source": [
        "from tensorflow.keras.models import load_model\n",
        "mode = load_model('my_model.h5')"
      ],
      "execution_count": 0,
      "outputs": []
    },
    {
      "cell_type": "code",
      "metadata": {
        "id": "W0gMHKFRPt9T",
        "colab_type": "code",
        "colab": {}
      },
      "source": [
        "##Prediction Part\n",
        "import numpy as np\n",
        "from keras.preprocessing import image\n",
        "\n",
        "img_pred = image.load_img('mask.png', target_size = (150, 150))\n",
        "img_pred = image.img_to_array(img_pred)\n",
        "img_pred = np.expand_dims(img_pred, axis = 0)\n",
        "rslt = mode.predict(img_pred)"
      ],
      "execution_count": 0,
      "outputs": []
    },
    {
      "cell_type": "code",
      "metadata": {
        "id": "rO-7NRWcP2Vy",
        "colab_type": "code",
        "colab": {
          "base_uri": "https://localhost:8080/",
          "height": 34
        },
        "outputId": "66660d30-2ca1-4ad8-e7c7-86dba5de1cbd"
      },
      "source": [
        "rslt"
      ],
      "execution_count": 70,
      "outputs": [
        {
          "output_type": "execute_result",
          "data": {
            "text/plain": [
              "array([[0.]], dtype=float32)"
            ]
          },
          "metadata": {
            "tags": []
          },
          "execution_count": 70
        }
      ]
    },
    {
      "cell_type": "code",
      "metadata": {
        "id": "BCJiK_heAeN-",
        "colab_type": "code",
        "colab": {
          "base_uri": "https://localhost:8080/",
          "height": 34
        },
        "outputId": "7892173b-812b-4265-97df-3db2aea1f6b1"
      },
      "source": [
        "import tensorflow as tf\n",
        "\n",
        "modell = tf.keras.models.load_model('my_model.h5')\n",
        "converter = tf.lite.TFLiteConverter.from_keras_model(modell)\n",
        "tflite_model = converter.convert()\n",
        "open(\"converted_model.tflite\", \"wb\").write(tflite_model)"
      ],
      "execution_count": 41,
      "outputs": [
        {
          "output_type": "execute_result",
          "data": {
            "text/plain": [
              "4852892"
            ]
          },
          "metadata": {
            "tags": []
          },
          "execution_count": 41
        }
      ]
    }
  ]
}